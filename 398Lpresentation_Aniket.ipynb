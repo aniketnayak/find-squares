{
 "cells": [
  {
   "cell_type": "markdown",
   "id": "71ed171f",
   "metadata": {},
   "source": [
    "## CMSC398L Presentation - Aniket Nayak"
   ]
  },
  {
   "cell_type": "markdown",
   "id": "4abd68cb",
   "metadata": {},
   "source": [
    "### Question:\n",
    "Given n points on a coordinate plane, how many squares can be formed?"
   ]
  },
  {
   "cell_type": "markdown",
   "id": "e1c45aaf",
   "metadata": {},
   "source": [
    "### Approach:\n",
    "When I initially saw this problem, I went about it by comparing the x and y coordinates of every point combination and see if they were on the same horizontal or vertical line. From there, I would compare distances to see if the points formed a square. The 2 major issues with this approach were 1) the inefficient time complexity and 2) this only worked for squares that were perpendicular to the x-axis.\n",
    "\n",
    "The method I show in this solution is the following:\n",
    "\n",
    "Make a hashmap of the <the distance between 2 points> : <those 2 points (a pair)>\n",
    "\n",
    "When I iterate through the keys of the hashmap, I am going through all possible square side lengths. So when I look at the values, it will contain the pairs of points of all side lengths that match the key — possibly a combination of them forming a square.\n",
    "From here, it's a matter of going through these pairs of points, checking if any 4 pairs match the criteria to form a square.\n"
   ]
  },
  {
   "cell_type": "code",
   "execution_count": 1,
   "id": "7ed0972a",
   "metadata": {},
   "outputs": [],
   "source": [
    "import math\n",
    "from matplotlib import pyplot as plt\n",
    "\n",
    "#thx from https://stackoverflow.com/questions/3831144/finding-the-squares-in-a-plane-given-n-points"
   ]
  },
  {
   "cell_type": "markdown",
   "id": "197d7735",
   "metadata": {},
   "source": [
    "Helper function to calculate distance between two points"
   ]
  },
  {
   "cell_type": "code",
   "execution_count": 2,
   "id": "8c5fc58d",
   "metadata": {},
   "outputs": [],
   "source": [
    "def distPoints(p1, p2):\n",
    "    x1, y1 = p1\n",
    "    x2, y2 = p2\n",
    "    return math.sqrt((x2 - x1)**2 + (y2 - y1)**2)"
   ]
  },
  {
   "cell_type": "markdown",
   "id": "00e8e0a9",
   "metadata": {},
   "source": [
    "These are the points being used as an example:\n",
    "(-1, -1), (0, -1), (0, 0), (0, 1), (1, 0), (-1, 0), (-1, 1), (1, 1)"
   ]
  },
  {
   "cell_type": "code",
   "execution_count": 3,
   "id": "13f29689",
   "metadata": {},
   "outputs": [
    {
     "data": {
      "text/plain": [
       "[<matplotlib.lines.Line2D at 0x7fbf74c681c0>]"
      ]
     },
     "execution_count": 3,
     "metadata": {},
     "output_type": "execute_result"
    },
    {
     "data": {
      "image/png": "[encoded data removed]",
      "text/plain": [
       "<Figure size 432x288 with 1 Axes>"
      ]
     },
     "metadata": {
      "needs_background": "light"
     },
     "output_type": "display_data"
    }
   ],
   "source": [
    "x = [-1,0,0,0,1,-1,-1,1]\n",
    "y = [-1, -1, 0, 1, 0, 0, 1, 1]\n",
    "plt.plot(x,y, 'o')"
   ]
  },
  {
   "cell_type": "markdown",
   "id": "d33c0c6f",
   "metadata": {},
   "source": [
    "As we can see above, there are 4 squares; 3 small ones of equal size and 1 large that is rotated 45 degrees."
   ]
  },
  {
   "cell_type": "code",
   "execution_count": 4,
   "id": "6e20bf8c",
   "metadata": {},
   "outputs": [
    {
     "data": {
      "text/plain": [
       "[(-1, -1), (0, -1), (0, 0), (0, 1), (1, 0), (-1, 0), (-1, 1), (1, 1)]"
      ]
     },
     "execution_count": 4,
     "metadata": {},
     "output_type": "execute_result"
    }
   ],
   "source": [
    "# Getting coordinates in appropriate format\n",
    "coords = []\n",
    "for i in range(len(x)):\n",
    "    coords.append((x[i],y[i]))\n",
    "coords"
   ]
  },
  {
   "cell_type": "code",
   "execution_count": 5,
   "id": "628b455f",
   "metadata": {
    "scrolled": true
   },
   "outputs": [
    {
     "name": "stdout",
     "output_type": "stream",
     "text": [
      "Found square: (0, 0) (-1, 0) (-1, -1) (0, -1)\n",
      "Found square: (0, 1) (-1, 0) (0, -1) (1, 0)\n",
      "Found square: (1, 0) (1, 1) (0, 0) (0, 1)\n",
      "Found square: (-1, 0) (-1, 1) (0, 0) (0, 1)\n"
     ]
    }
   ],
   "source": [
    "distMap = {} # main hashmap — < distance between a pair of points > : < the pair >\n",
    "tot = 0      # number of total square\n",
    "squares = [] # saving coordinates of the found squares\n",
    "\n",
    "# iterate through all pair combinations for 2 reasons\n",
    "# 1) build the distMap\n",
    "# 2) check if any added point to the map causes a square to be formedd\n",
    "for i in range(len(coords)-1):\n",
    "    for j in range(i+1, len(coords)):\n",
    "        \n",
    "        # find distance between the 2 points\n",
    "        dist = distPoints(coords[i], coords[j])\n",
    "        \n",
    "        # new distance found, no need to check anything further\n",
    "        if dist not in distMap:\n",
    "            distMap[dist] = [[coords[i], coords[j]]]\n",
    "            \n",
    "        # existing distance has been found, check if a pair of points exists that make a square all together\n",
    "        else:\n",
    "            \n",
    "            # iterate through all other pairs\n",
    "            for q in range(len(distMap[dist])-2):\n",
    "                p = distMap[dist][q]\n",
    "                # checking if the 2 pairs of points are connected at some vertex - won't make a square\n",
    "                if p[0] == coords[i] or p[0] == coords[j] or p[1] == coords[i] or p[1] == coords[j]:\n",
    "                    continue\n",
    "                    \n",
    "                # two possible valid square sides that may exist, check for both\n",
    "                pair1a, pair1b, c1 = {coords[i], p[0]}, {coords[j], p[1]}, 0\n",
    "                pair2a, pair2b, c2 = {coords[i], p[1]}, {coords[j], p[0]}, 0\n",
    "                \n",
    "                # looking if the remaining side edges exist or not\n",
    "                for r in range(q+1, len(distMap[dist])):\n",
    "                    checkP = set(distMap[dist][r])\n",
    "                    if checkP == pair1a or checkP == pair1b:\n",
    "                        c1 += 1\n",
    "                    elif checkP == pair2a or checkP == pair2b:\n",
    "                        c2 +=1\n",
    "                    \n",
    "                    # an equilateral triangle is formed so we disregard that\n",
    "                    if c1 == 1 and c2 == 1:\n",
    "                        continue\n",
    "                        \n",
    "                    # once four valid points are found, no need to continue checking\n",
    "                    if c1 == 2 or c2 == 2:\n",
    "                        print(\"Found square:\", coords[i], coords[j], p[0], p[1])\n",
    "                        tot += 1\n",
    "                        squares_coords = []\n",
    "                        squares_coords.append(coords[i])\n",
    "                        squares_coords.append(coords[j])\n",
    "                        squares_coords.append(p[0])\n",
    "                        squares_coords.append(p[1])\n",
    "                        squares.append(squares_coords)\n",
    "                        break\n",
    "                        \n",
    "            # add the current point to the list\n",
    "            distMap[dist].append([coords[i], coords[j]])"
   ]
  },
  {
   "cell_type": "markdown",
   "id": "6fe3a7e3",
   "metadata": {},
   "source": [
    "We can see that all 4 squares were found, including the rotated square. Below is the created hash map from the code above."
   ]
  },
  {
   "cell_type": "code",
   "execution_count": 6,
   "id": "be5b131d",
   "metadata": {},
   "outputs": [
    {
     "data": {
      "text/plain": [
       "{1.0: [[(-1, -1), (0, -1)],\n",
       "  [(-1, -1), (-1, 0)],\n",
       "  [(0, -1), (0, 0)],\n",
       "  [(0, 0), (0, 1)],\n",
       "  [(0, 0), (1, 0)],\n",
       "  [(0, 0), (-1, 0)],\n",
       "  [(0, 1), (-1, 1)],\n",
       "  [(0, 1), (1, 1)],\n",
       "  [(1, 0), (1, 1)],\n",
       "  [(-1, 0), (-1, 1)]],\n",
       " 1.4142135623730951: [[(-1, -1), (0, 0)],\n",
       "  [(0, -1), (1, 0)],\n",
       "  [(0, -1), (-1, 0)],\n",
       "  [(0, 0), (-1, 1)],\n",
       "  [(0, 0), (1, 1)],\n",
       "  [(0, 1), (1, 0)],\n",
       "  [(0, 1), (-1, 0)]],\n",
       " 2.23606797749979: [[(-1, -1), (0, 1)],\n",
       "  [(-1, -1), (1, 0)],\n",
       "  [(0, -1), (-1, 1)],\n",
       "  [(0, -1), (1, 1)],\n",
       "  [(1, 0), (-1, 1)],\n",
       "  [(-1, 0), (1, 1)]],\n",
       " 2.0: [[(-1, -1), (-1, 1)],\n",
       "  [(0, -1), (0, 1)],\n",
       "  [(1, 0), (-1, 0)],\n",
       "  [(-1, 1), (1, 1)]],\n",
       " 2.8284271247461903: [[(-1, -1), (1, 1)]]}"
      ]
     },
     "execution_count": 6,
     "metadata": {},
     "output_type": "execute_result"
    }
   ],
   "source": [
    "distMap"
   ]
  }
 ],
 "metadata": {
  "kernelspec": {
   "display_name": "Python 3 (ipykernel)",
   "language": "python",
   "name": "python3"
  },
  "language_info": {
   "codemirror_mode": {
    "name": "ipython",
    "version": 3
   },
   "file_extension": ".py",
   "mimetype": "text/x-python",
   "name": "python",
   "nbconvert_exporter": "python",
   "pygments_lexer": "ipython3",
   "version": "3.9.12"
  }
 },
 "nbformat": 4,
 "nbformat_minor": 5
}
