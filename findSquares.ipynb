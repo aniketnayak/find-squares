{
 "cells": [
  {
   "cell_type": "code",
   "execution_count": 75,
   "id": "7ed0972a",
   "metadata": {},
   "outputs": [],
   "source": [
    "import math\n",
    "from matplotlib import pyplot as plt\n",
    "\n",
    "#thx from https://stackoverflow.com/questions/3831144/finding-the-squares-in-a-plane-given-n-points"
   ]
  },
  {
   "cell_type": "code",
   "execution_count": 76,
   "id": "8c5fc58d",
   "metadata": {},
   "outputs": [],
   "source": [
    "def distPoints(p1, p2):\n",
    "    x1, y1 = p1\n",
    "    x2, y2 = p2\n",
    "    return math.sqrt((x2 - x1)**2 + (y2 - y1)**2)"
   ]
  },
  {
   "cell_type": "code",
   "execution_count": 77,
   "id": "13f29689",
   "metadata": {},
   "outputs": [
    {
     "data": {
      "text/plain": [
       "[<matplotlib.lines.Line2D at 0x7fa931c0abe0>]"
      ]
     },
     "execution_count": 77,
     "metadata": {},
     "output_type": "execute_result"
    },
    {
     "data": {
      "image/png": "[encoded data removed]",
      "text/plain": [
       "<Figure size 432x288 with 1 Axes>"
      ]
     },
     "metadata": {
      "needs_background": "light"
     },
     "output_type": "display_data"
    }
   ],
   "source": [
    "x = [-1,0,0,0,1,-1,-1,1]\n",
    "y = [-1, -1, 0, 1, 0, 0, 1, 1]\n",
    "plt.plot(x,y, 'o')"
   ]
  },
  {
   "cell_type": "code",
   "execution_count": 78,
   "id": "6e20bf8c",
   "metadata": {},
   "outputs": [
    {
     "data": {
      "text/plain": [
       "[(-1, -1), (0, -1), (0, 0), (0, 1), (1, 0), (-1, 0), (-1, 1), (1, 1)]"
      ]
     },
     "execution_count": 78,
     "metadata": {},
     "output_type": "execute_result"
    }
   ],
   "source": [
    "coords = []\n",
    "for i in range(len(x)):\n",
    "    coords.append((x[i],y[i]))\n",
    "coords"
   ]
  },
  {
   "cell_type": "code",
   "execution_count": 81,
   "id": "628b455f",
   "metadata": {},
   "outputs": [
    {
     "name": "stdout",
     "output_type": "stream",
     "text": [
      "Found square: (0, 0) (-1, 0) (-1, -1) (0, -1)\n",
      "Found square: (0, 1) (-1, 0) (0, -1) (1, 0)\n",
      "Found square: (1, 0) (1, 1) (0, 0) (0, 1)\n",
      "Found square: (-1, 0) (-1, 1) (0, 0) (0, 1)\n"
     ]
    },
    {
     "data": {
      "text/plain": [
       "{1.0: [[(-1, -1), (0, -1)],\n",
       "  [(-1, -1), (-1, 0)],\n",
       "  [(0, -1), (0, 0)],\n",
       "  [(0, 0), (0, 1)],\n",
       "  [(0, 0), (1, 0)],\n",
       "  [(0, 0), (-1, 0)],\n",
       "  [(0, 1), (-1, 1)],\n",
       "  [(0, 1), (1, 1)],\n",
       "  [(1, 0), (1, 1)],\n",
       "  [(-1, 0), (-1, 1)]],\n",
       " 1.4142135623730951: [[(-1, -1), (0, 0)],\n",
       "  [(0, -1), (1, 0)],\n",
       "  [(0, -1), (-1, 0)],\n",
       "  [(0, 0), (-1, 1)],\n",
       "  [(0, 0), (1, 1)],\n",
       "  [(0, 1), (1, 0)],\n",
       "  [(0, 1), (-1, 0)]],\n",
       " 2.23606797749979: [[(-1, -1), (0, 1)],\n",
       "  [(-1, -1), (1, 0)],\n",
       "  [(0, -1), (-1, 1)],\n",
       "  [(0, -1), (1, 1)],\n",
       "  [(1, 0), (-1, 1)],\n",
       "  [(-1, 0), (1, 1)]],\n",
       " 2.0: [[(-1, -1), (-1, 1)],\n",
       "  [(0, -1), (0, 1)],\n",
       "  [(1, 0), (-1, 0)],\n",
       "  [(-1, 1), (1, 1)]],\n",
       " 2.8284271247461903: [[(-1, -1), (1, 1)]]}"
      ]
     },
     "execution_count": 81,
     "metadata": {},
     "output_type": "execute_result"
    }
   ],
   "source": [
    "distMap = {}\n",
    "tot = 0\n",
    "squares = []\n",
    "for i in range(len(coords)-1):\n",
    "    for j in range(i+1, len(coords)):\n",
    "        \n",
    "        # find distance between the 2 points\n",
    "        dist = distPoints(coords[i], coords[j])\n",
    "        \n",
    "        # new distance found\n",
    "        if dist not in distMap:\n",
    "            distMap[dist] = [[coords[i], coords[j]]]\n",
    "            \n",
    "        # existing distance has been found, check if a pair of points exists that make a square all together\n",
    "        else:\n",
    "            for q in range(len(distMap[dist])-2):\n",
    "                p = distMap[dist][q]\n",
    "                if p[0] == coords[i] or p[0] == coords[j] or p[1] == coords[i] or p[1] == coords[j]:\n",
    "                    continue\n",
    "                    \n",
    "                # two possible valid pairings, check for both\n",
    "                pair1a, pair1b, c1 = {coords[i], p[0]}, {coords[j], p[1]}, 0\n",
    "                pair2a, pair2b, c2 = {coords[i], p[1]}, {coords[j], p[0]}, 0\n",
    "                \n",
    "                for r in range(q+1, len(distMap[dist])):\n",
    "                    checkP = set(distMap[dist][r])\n",
    "                    if checkP == pair1a or checkP == pair1b:\n",
    "                        c1 += 1\n",
    "                    elif checkP == pair2a or checkP == pair2b:\n",
    "                        c2 +=1\n",
    "                    \n",
    "                    # slight optimization where an equilateral triangle is formed so we disregard that\n",
    "                    if c1 == 1 and c2 == 1:\n",
    "                        continue\n",
    "                        \n",
    "                    # once four points are found, no need to continue checking\n",
    "                    if c1 == 2 or c2 == 2:\n",
    "                        print(\"Found square:\", coords[i], coords[j], p[0], p[1])\n",
    "                        tot += 1\n",
    "                        squares_coords = []\n",
    "                        squares_coords.append(coords[i])\n",
    "                        squares_coords.append(coords[j])\n",
    "                        squares_coords.append(p[0])\n",
    "                        squares_coords.append(p[1])\n",
    "                        squares.append(squares_coords)\n",
    "                        break\n",
    "                        \n",
    "            # add the current point to the list\n",
    "            distMap[dist].append([coords[i], coords[j]])\n",
    "distMap"
   ]
  },
  {
   "cell_type": "code",
   "execution_count": 80,
   "id": "9eb36aab",
   "metadata": {},
   "outputs": [],
   "source": [
    "#print(\"Num of squares:\", tot)\n",
    "#print(squares)\n",
    "#squares_x = []\n",
    "#squares_y = []\n",
    "#min_x, max_x = min(x), max(x)\n",
    "#min_y, max_y = min(y), max(y)\n",
    "#plt.xlim(min_x, max_x)\n",
    "#plt.ylim(min_y, max_y)\n",
    "#for s in squares:\n",
    "#    for x,y in s:\n",
    "#        squares_x.append(x)\n",
    "#        squares_y.append(y)\n",
    "#    plt.figure()    \n",
    "#    plt.plot(squares_x, squares_y, 'o')\n",
    "#    squares_x = []\n",
    "#    squares_y = []"
   ]
  },
  {
   "cell_type": "code",
   "execution_count": null,
   "id": "4bbb5067",
   "metadata": {},
   "outputs": [],
   "source": []
  }
 ],
 "metadata": {
  "kernelspec": {
   "display_name": "Python 3 (ipykernel)",
   "language": "python",
   "name": "python3"
  },
  "language_info": {
   "codemirror_mode": {
    "name": "ipython",
    "version": 3
   },
   "file_extension": ".py",
   "mimetype": "text/x-python",
   "name": "python",
   "nbconvert_exporter": "python",
   "pygments_lexer": "ipython3",
   "version": "3.9.12"
  }
 },
 "nbformat": 4,
 "nbformat_minor": 5
}
